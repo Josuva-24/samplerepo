{
  "nbformat": 4,
  "nbformat_minor": 0,
  "metadata": {
    "colab": {
      "provenance": [],
      "authorship_tag": "ABX9TyNJ5Utn9TPCf3/yqD+DUduD",
      "include_colab_link": true
    },
    "kernelspec": {
      "name": "python3",
      "display_name": "Python 3"
    },
    "language_info": {
      "name": "python"
    }
  },
  "cells": [
    {
      "cell_type": "markdown",
      "metadata": {
        "id": "view-in-github",
        "colab_type": "text"
      },
      "source": [
        "<a href=\"https://colab.research.google.com/github/Josuva-24/samplerepo/blob/main/Untitled8.ipynb\" target=\"_parent\"><img src=\"https://colab.research.google.com/assets/colab-badge.svg\" alt=\"Open In Colab\"/></a>"
      ]
    },
    {
      "cell_type": "markdown",
      "source": [
        "1 Candidate Elimination"
      ],
      "metadata": {
        "id": "oP5Yg3moFfy3"
      }
    },
    {
      "cell_type": "code",
      "execution_count": 1,
      "metadata": {
        "colab": {
          "base_uri": "https://localhost:8080/"
        },
        "id": "1V1tpCQKFYxQ",
        "outputId": "38b87f44-30af-4997-b9c4-0b522982c20c"
      },
      "outputs": [
        {
          "output_type": "stream",
          "name": "stdout",
          "text": [
            "S: ['Sunny' 'Warm' '?' 'Strong' '?' '?']\n",
            "G: [[np.str_('Sunny'), '?', '?', '?', '?', '?'], ['?', np.str_('Warm'), '?', '?', '?', '?']]\n"
          ]
        }
      ],
      "source": [
        "import numpy as np\n",
        "\n",
        "concepts = np.array([\n",
        "    ['Sunny', 'Warm', 'Normal', 'Strong', 'Warm', 'Same'],\n",
        "    ['Sunny', 'Warm', 'High', 'Strong', 'Warm', 'Same'],\n",
        "    ['Rainy', 'Cold', 'High', 'Strong', 'Warm', 'Change'],\n",
        "    ['Sunny', 'Warm', 'High', 'Strong', 'Cool', 'Change']\n",
        "])\n",
        "target = np.array(['Yes', 'Yes', 'No', 'Yes'])\n",
        "\n",
        "s = concepts[0].copy()\n",
        "g = [['?' for _ in s] for _ in s]\n",
        "for i, h in enumerate(concepts):\n",
        "    if target[i] == 'Yes':\n",
        "\n",
        "        for j in range(len(s)):\n",
        "            if s[j] != h[j]:\n",
        "                s[j] = '?'\n",
        "                g[j][j] = '?'\n",
        "    else:\n",
        "        for j in range(len(s)):\n",
        "            if s[j] != h[j]:\n",
        "                g[j][j] = s[j]\n",
        "            else:\n",
        "                g[j][j] = '?'\n",
        "print(\"S:\", s)\n",
        "print(\"G:\", [h for h in g if h != ['?']*len(s)])\n"
      ]
    },
    {
      "cell_type": "markdown",
      "source": [
        "ID3 Decision Tree"
      ],
      "metadata": {
        "id": "5iSGqQFeFqu1"
      }
    },
    {
      "cell_type": "code",
      "source": [
        "from sklearn.tree import DecisionTreeClassifier\n",
        "\n",
        "X = [[1, 1, 1], [1, 0, 1], [0, 1, 0], [1, 1, 0]]\n",
        "y = ['Yes', 'Yes', 'No', 'Yes']\n",
        "\n",
        "model = DecisionTreeClassifier()\n",
        "model.fit(X, y)\n",
        "\n",
        "print(\"Prediction:\", model.predict([[1, 0, 0]]))\n"
      ],
      "metadata": {
        "colab": {
          "base_uri": "https://localhost:8080/"
        },
        "id": "aY3Z4u3hFwwl",
        "outputId": "cc1ecf2a-e41b-4e7a-be6f-4104eb0bebd2"
      },
      "execution_count": 2,
      "outputs": [
        {
          "output_type": "stream",
          "name": "stdout",
          "text": [
            "Prediction: ['Yes']\n"
          ]
        }
      ]
    },
    {
      "cell_type": "markdown",
      "source": [
        "ARTIFICIAL NEURAL NETWORK"
      ],
      "metadata": {
        "id": "gkOc0e9jFz3V"
      }
    },
    {
      "cell_type": "code",
      "source": [
        "from sklearn.neural_network import MLPClassifier\n",
        "import warnings\n",
        "warnings.filterwarnings(\"ignore\", category=UserWarning)\n",
        "\n",
        "X = [[0,0], [0,1], [1,0], [1,1]]\n",
        "y = [0, 1, 1, 0]\n",
        "\n",
        "model = MLPClassifier(hidden_layer_sizes=(4,), max_iter=5000)\n",
        "model.fit(X, y)\n",
        "\n",
        "print(\"Pred:\", model.predict([[0, 1], [1, 1]]))\n"
      ],
      "metadata": {
        "colab": {
          "base_uri": "https://localhost:8080/"
        },
        "id": "su3wC6jcGCCW",
        "outputId": "a47716e9-88d0-47ee-b752-e6468391d623"
      },
      "execution_count": 3,
      "outputs": [
        {
          "output_type": "stream",
          "name": "stdout",
          "text": [
            "Pred: [0 0]\n"
          ]
        }
      ]
    },
    {
      "cell_type": "markdown",
      "source": [
        "NAÏVE BAYESIAN CLASSIFIER"
      ],
      "metadata": {
        "id": "Iv82jM_4GG_V"
      }
    },
    {
      "cell_type": "code",
      "source": [
        "from sklearn.naive_bayes import GaussianNB\n",
        "\n",
        "X = [[1, 1], [2, 1], [3, 2], [4, 3]]\n",
        "y = [0, 0, 1, 1]\n",
        "\n",
        "model = GaussianNB().fit(X, y)\n",
        "print(\"Prediction:\", model.predict([[2, 2]]))\n"
      ],
      "metadata": {
        "colab": {
          "base_uri": "https://localhost:8080/"
        },
        "id": "XBj2yrGbGHWd",
        "outputId": "8e3c570c-c9f3-4abd-9807-ef6104a2fafd"
      },
      "execution_count": 4,
      "outputs": [
        {
          "output_type": "stream",
          "name": "stdout",
          "text": [
            "Prediction: [1]\n"
          ]
        }
      ]
    },
    {
      "cell_type": "markdown",
      "source": [
        "Navie Bayes on Text"
      ],
      "metadata": {
        "id": "Go5zB10YGRtd"
      }
    },
    {
      "cell_type": "code",
      "source": [
        "from sklearn.feature_extraction.text import CountVectorizer\n",
        "from sklearn.naive_bayes import MultinomialNB\n",
        "\n",
        "docs = [\"love this car\", \"hate this movie\", \"not bad\", \"really good\"]\n",
        "labels = [1, 0, 1, 1]\n",
        "\n",
        "vec = CountVectorizer()\n",
        "X = vec.fit_transform(docs)\n",
        "\n",
        "model = MultinomialNB().fit(X, labels)\n",
        "print(\"Prediction:\", model.predict(vec.transform([\"bad car\"])))\n"
      ],
      "metadata": {
        "colab": {
          "base_uri": "https://localhost:8080/"
        },
        "id": "DdIAhqzeGU99",
        "outputId": "03af3fa3-ce97-45f6-dbbe-4438fca30772"
      },
      "execution_count": 5,
      "outputs": [
        {
          "output_type": "stream",
          "name": "stdout",
          "text": [
            "Prediction: [1]\n"
          ]
        }
      ]
    },
    {
      "cell_type": "markdown",
      "source": [
        "Bayesian Network"
      ],
      "metadata": {
        "id": "EG0h_rlCGaG9"
      }
    },
    {
      "cell_type": "code",
      "source": [
        "from sklearn.naive_bayes import GaussianNB\n",
        "\n",
        "X = [[1, 22], [2, 25], [3, 35], [4, 45]]\n",
        "y = [1, 0, 1, 0]  # Cough: Yes(1) or No(0)\n",
        "\n",
        "model = GaussianNB().fit(X, y)\n",
        "print(\"Prediction:\", model.predict([[2, 30]]))\n"
      ],
      "metadata": {
        "colab": {
          "base_uri": "https://localhost:8080/"
        },
        "id": "Seoc7_hIGgGm",
        "outputId": "cd5ab65a-9e3c-4c2e-b795-71763af46dbe"
      },
      "execution_count": 6,
      "outputs": [
        {
          "output_type": "stream",
          "name": "stdout",
          "text": [
            "Prediction: [1]\n"
          ]
        }
      ]
    },
    {
      "cell_type": "markdown",
      "source": [
        "EM vs KMeans"
      ],
      "metadata": {
        "id": "alv0JT9CGh6u"
      }
    },
    {
      "cell_type": "code",
      "source": [
        "from sklearn.cluster import KMeans\n",
        "from sklearn.mixture import GaussianMixture\n",
        "\n",
        "X = [[5.1, 3.5], [4.9, 3.0], [6.2, 3.4], [5.9, 3.0]]\n",
        "\n",
        "print(\"KMeans:\", KMeans(n_clusters=2).fit_predict(X))\n",
        "print(\"EM (GMM):\", GaussianMixture(n_components=2).fit(X).predict(X))\n"
      ],
      "metadata": {
        "colab": {
          "base_uri": "https://localhost:8080/"
        },
        "id": "vw6mI2HGGnkt",
        "outputId": "4e5ea833-1c49-4aaa-9273-811536820369"
      },
      "execution_count": 7,
      "outputs": [
        {
          "output_type": "stream",
          "name": "stdout",
          "text": [
            "KMeans: [1 1 0 0]\n",
            "EM (GMM): [0 0 1 1]\n"
          ]
        }
      ]
    },
    {
      "cell_type": "markdown",
      "source": [
        "K-NN"
      ],
      "metadata": {
        "id": "_kd0xznQGrKO"
      }
    },
    {
      "cell_type": "code",
      "source": [
        "from sklearn.neighbors import KNeighborsClassifier\n",
        "\n",
        "X = [[1.0, 1.1], [1.2, 1.0], [4.0, 4.2], [4.1, 4.0]]\n",
        "y = [0, 0, 1, 1]\n",
        "\n",
        "model = KNeighborsClassifier(n_neighbors=1).fit(X, y)\n",
        "print(\"Pred:\", model.predict([[1.1, 1.2]]))\n"
      ],
      "metadata": {
        "colab": {
          "base_uri": "https://localhost:8080/"
        },
        "id": "v5hy48U4Grcl",
        "outputId": "0019a16f-45fc-4412-9d50-05e2bbd6ea7d"
      },
      "execution_count": 8,
      "outputs": [
        {
          "output_type": "stream",
          "name": "stdout",
          "text": [
            "Pred: [0]\n"
          ]
        }
      ]
    },
    {
      "cell_type": "markdown",
      "source": [
        "Locally Weighted Regression (LOWESS)"
      ],
      "metadata": {
        "id": "-6_H6skiGwWN"
      }
    },
    {
      "cell_type": "code",
      "source": [
        "import numpy as np, matplotlib.pyplot as plt\n",
        "from scipy import linalg\n",
        "\n",
        "def lowess(x, y):\n",
        "    w = np.exp(-((x[:,None]-x[None,:])**2)/0.1)\n",
        "    yest = []\n",
        "    for i in range(len(x)):\n",
        "        W = np.diag(w[:,i])\n",
        "        A = np.vstack([x, np.ones(len(x))]).T\n",
        "        beta = linalg.inv(A.T@W@A)@(A.T@W@y)\n",
        "        yest.append(beta[0]*x[i] + beta[1])\n",
        "    return yest\n",
        "\n",
        "x = np.linspace(0, 2*np.pi, 50)\n",
        "y = np.si\n",
        "(x) + 0.1*np.random.randn(50)\n",
        "plt.plot(x, y, 'r.')\n",
        "plt.plot(x, lowess(x, y), 'b-')\n",
        "plt.show()\n"
      ],
      "metadata": {
        "colab": {
          "base_uri": "https://localhost:8080/",
          "height": 332
        },
        "id": "cZXEEGKaGz2V",
        "outputId": "77944dbd-1148-4a14-ecc8-bff7e70aa953"
      },
      "execution_count": 9,
      "outputs": [
        {
          "output_type": "error",
          "ename": "AttributeError",
          "evalue": "module 'numpy' has no attribute 'si'",
          "traceback": [
            "\u001b[0;31m---------------------------------------------------------------------------\u001b[0m",
            "\u001b[0;31mAttributeError\u001b[0m                            Traceback (most recent call last)",
            "\u001b[0;32m<ipython-input-9-b427aab43e94>\u001b[0m in \u001b[0;36m<cell line: 0>\u001b[0;34m()\u001b[0m\n\u001b[1;32m     13\u001b[0m \u001b[0;34m\u001b[0m\u001b[0m\n\u001b[1;32m     14\u001b[0m \u001b[0mx\u001b[0m \u001b[0;34m=\u001b[0m \u001b[0mnp\u001b[0m\u001b[0;34m.\u001b[0m\u001b[0mlinspace\u001b[0m\u001b[0;34m(\u001b[0m\u001b[0;36m0\u001b[0m\u001b[0;34m,\u001b[0m \u001b[0;36m2\u001b[0m\u001b[0;34m*\u001b[0m\u001b[0mnp\u001b[0m\u001b[0;34m.\u001b[0m\u001b[0mpi\u001b[0m\u001b[0;34m,\u001b[0m \u001b[0;36m50\u001b[0m\u001b[0;34m)\u001b[0m\u001b[0;34m\u001b[0m\u001b[0;34m\u001b[0m\u001b[0m\n\u001b[0;32m---> 15\u001b[0;31m \u001b[0my\u001b[0m \u001b[0;34m=\u001b[0m \u001b[0mnp\u001b[0m\u001b[0;34m.\u001b[0m\u001b[0msi\u001b[0m\u001b[0;34m\u001b[0m\u001b[0;34m\u001b[0m\u001b[0m\n\u001b[0m\u001b[1;32m     16\u001b[0m \u001b[0;34m(\u001b[0m\u001b[0mx\u001b[0m\u001b[0;34m)\u001b[0m \u001b[0;34m+\u001b[0m \u001b[0;36m0.1\u001b[0m\u001b[0;34m*\u001b[0m\u001b[0mnp\u001b[0m\u001b[0;34m.\u001b[0m\u001b[0mrandom\u001b[0m\u001b[0;34m.\u001b[0m\u001b[0mrandn\u001b[0m\u001b[0;34m(\u001b[0m\u001b[0;36m50\u001b[0m\u001b[0;34m)\u001b[0m\u001b[0;34m\u001b[0m\u001b[0;34m\u001b[0m\u001b[0m\n\u001b[1;32m     17\u001b[0m \u001b[0mplt\u001b[0m\u001b[0;34m.\u001b[0m\u001b[0mplot\u001b[0m\u001b[0;34m(\u001b[0m\u001b[0mx\u001b[0m\u001b[0;34m,\u001b[0m \u001b[0my\u001b[0m\u001b[0;34m,\u001b[0m \u001b[0;34m'r.'\u001b[0m\u001b[0;34m)\u001b[0m\u001b[0;34m\u001b[0m\u001b[0;34m\u001b[0m\u001b[0m\n",
            "\u001b[0;32m/usr/local/lib/python3.11/dist-packages/numpy/__init__.py\u001b[0m in \u001b[0;36m__getattr__\u001b[0;34m(attr)\u001b[0m\n\u001b[1;32m    408\u001b[0m             \u001b[0;32mreturn\u001b[0m \u001b[0mchar\u001b[0m\u001b[0;34m.\u001b[0m\u001b[0mchararray\u001b[0m\u001b[0;34m\u001b[0m\u001b[0;34m\u001b[0m\u001b[0m\n\u001b[1;32m    409\u001b[0m \u001b[0;34m\u001b[0m\u001b[0m\n\u001b[0;32m--> 410\u001b[0;31m         raise AttributeError(\"module {!r} has no attribute \"\n\u001b[0m\u001b[1;32m    411\u001b[0m                              \"{!r}\".format(__name__, attr))\n\u001b[1;32m    412\u001b[0m \u001b[0;34m\u001b[0m\u001b[0m\n",
            "\u001b[0;31mAttributeError\u001b[0m: module 'numpy' has no attribute 'si'"
          ]
        }
      ]
    }
  ]
}